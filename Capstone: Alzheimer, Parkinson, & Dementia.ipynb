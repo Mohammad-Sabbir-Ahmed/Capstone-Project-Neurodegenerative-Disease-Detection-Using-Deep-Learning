{
  "cells": [
    {
      "cell_type": "markdown",
      "metadata": {
        "id": "view-in-github",
        "colab_type": "text"
      },
      "source": [
        "<a href=\"https://colab.research.google.com/github/Mohammad-Sabbir-Ahmed/Capstone-Project-Neurodegenerative-Disease-Detection-Using-Deep-Learning/blob/main/Capstone%3A%20Alzheimer%2C%20Parkinson%2C%20%26%20Dementia.ipynb\" target=\"_parent\"><img src=\"https://colab.research.google.com/assets/colab-badge.svg\" alt=\"Open In Colab\"/></a>"
      ]
    },
    {
      "cell_type": "code",
      "execution_count": null,
      "metadata": {
        "colab": {
          "base_uri": "https://localhost:8080/"
        },
        "id": "haOVYnEfSVUV",
        "outputId": "7a52ca08-989e-4d02-f326-66f7336c658a"
      },
      "outputs": [
        {
          "output_type": "stream",
          "name": "stdout",
          "text": [
            "Looking in indexes: https://pypi.org/simple, https://us-python.pkg.dev/colab-wheels/public/simple/\n",
            "Collecting pydicom\n",
            "  Downloading pydicom-2.3.0-py3-none-any.whl (2.0 MB)\n",
            "\u001b[K     |████████████████████████████████| 2.0 MB 32.6 MB/s \n",
            "\u001b[?25hInstalling collected packages: pydicom\n",
            "Successfully installed pydicom-2.3.0\n"
          ]
        }
      ],
      "source": [
        "import os\n",
        "import numpy as np\n",
        "import cv2\n",
        "from PIL import Image\n",
        "\n",
        "!pip install pydicom\n",
        "import pydicom"
      ]
    },
    {
      "cell_type": "code",
      "execution_count": null,
      "metadata": {
        "colab": {
          "base_uri": "https://localhost:8080/"
        },
        "id": "Fmk2468AZcgc",
        "outputId": "449597a7-4475-491d-9a44-f968f88b1895"
      },
      "outputs": [
        {
          "output_type": "stream",
          "name": "stdout",
          "text": [
            "Mounted at /content/gdrive\n"
          ]
        }
      ],
      "source": [
        "# mount google drive with colab\n",
        "from google.colab import drive\n",
        "from google.colab import files\n",
        "\n",
        "drive.mount('/content/gdrive')\n",
        "!rm -rf sample_data/ # removiing sample_data folder"
      ]
    },
    {
      "cell_type": "markdown",
      "source": [
        "# Prepraing Parkinson's Dataset"
      ],
      "metadata": {
        "id": "eKAIfodLjFXg"
      }
    },
    {
      "cell_type": "code",
      "source": [
        "!rm -rf /content/dataset"
      ],
      "metadata": {
        "id": "6f7eBiBXe243"
      },
      "execution_count": null,
      "outputs": []
    },
    {
      "cell_type": "code",
      "source": [
        "# making \n",
        "!mkdir -p /content/dataset/H-V-A/Alzheimer /content/dataset/H-V-A/Healthy\n",
        "!mkdir -p /content/dataset/H-V-D/Dementia /content/dataset/H-V-D/Healthy\n",
        "!mkdir -p /content/dataset/H-V-P/Parkinson /content/dataset/H-V-P/Healthy\n",
        "\n",
        "!mkdir -p /content/dataset/A-V-D/Alzheimer /content/dataset/A-V-D/Dementia\n",
        "!mkdir -p /content/dataset/A-V-P/Alzheimer /content/dataset/A-V-P/Parkinson\n",
        "!mkdir -p /content/dataset/D-V-P/Parkinson /content/dataset/D-V-P/Dementia"
      ],
      "metadata": {
        "id": "zjHdxjcWdiaI"
      },
      "execution_count": null,
      "outputs": []
    },
    {
      "cell_type": "code",
      "execution_count": null,
      "metadata": {
        "id": "M9sOscZWePOk"
      },
      "outputs": [],
      "source": [
        "# Parkinson: Creating directory to store raw & clean data\n",
        "# !mkdir -p '/content/dataset/parkinson/'\n",
        "!unzip \"/content/gdrive/MyDrive/Colab Notebooks/Capstone[CSE 498]/Dataset/Parkinson's (PPMI).zip\" -d '/content/dataset/H-V-P/Parkinson'\n",
        "!find \"/content/dataset/H-V-P/Parkinson/Parkinson's (PPMI)\" -mindepth 0 -type f -print -exec mv {} '/content/dataset/H-V-P/Parkinson' \\;\n",
        "!rm -rf \"/content/dataset/H-V-P/Parkinson/Parkinson's (PPMI)/\""
      ]
    },
    {
      "cell_type": "code",
      "execution_count": null,
      "metadata": {
        "id": "li6FwOAQ2X_G"
      },
      "outputs": [],
      "source": [
        "inputdir = '/content/dataset/H-V-P/Parkinson/'\n",
        "\n",
        "height = 208\n",
        "width = 176\n",
        "dim = (width, height)\n",
        "\n",
        "#Converting .dcm to .jpg\n",
        "test_list = [ f for f in  os.listdir(inputdir)]\n",
        "i = 1\n",
        "for f in test_list[:]:   # remove \"[:]\" to convert all images\n",
        "  path = inputdir + '/' + f\n",
        "  if(os.path.isdir(path) is False):\n",
        "    ds = pydicom.read_file(path) # read dicom image\n",
        "    img = ds.pixel_array # get image arrayimg = np.array(img, dtype = float) \n",
        "    img = (img - img.min()) / (img.max() - img.min()) * 255.0  \n",
        "    img = img.astype(np.uint8)\n",
        "    # apply guassian blur on src image\n",
        "    gaussian_blurred_image = cv2.GaussianBlur(img,(5,5),cv2.BORDER_DEFAULT)\n",
        "    cropped_image = cv2.resize(gaussian_blurred_image, dim, interpolation=cv2.INTER_LINEAR)\n",
        "    #saving cropped image to ('/content/dataset/H-V-P/Parkinson/' directory\n",
        "    path = inputdir + '/' + f.replace('.dcm','.jpg')\n",
        "    cv2.imwrite(path, cropped_image)\n",
        "    new_path = inputdir + '/' + 'parkinson-' + str(i) + '.jpg'\n",
        "    os.rename(path, new_path)\n",
        "    i = i+1\n",
        "\n",
        "!rm /content/dataset/H-V-P/Parkinson/*.dcm\n",
        "!cp /content/dataset/H-V-P/Parkinson/* /content/dataset/A-V-P/Parkinson\n",
        "!cp /content/dataset/H-V-P/Parkinson/* /content/dataset/D-V-P/Parkinson\n",
        "# !cp /content/dataset/parkinson/* /content/dataset/H-V-P/Parkinson"
      ]
    },
    {
      "cell_type": "code",
      "execution_count": null,
      "metadata": {
        "id": "21OgB3-bAwoG"
      },
      "outputs": [],
      "source": [
        "# inputdir = '/content/dataset/H-V-P/Parkinson/'\n",
        "# test_list = [ f for f in  os.listdir(inputdir)]\n",
        "\n",
        "# for f in test_list[:10]:\n",
        "#   path = inputdir + '/' + f\n",
        "#   # print(path)\n",
        "#   im = Image.open(path)\n",
        "#   width, height = im.size\n",
        "#   print(height, width)\n"
      ]
    },
    {
      "cell_type": "markdown",
      "metadata": {
        "id": "DoDuzTySrZjF"
      },
      "source": [
        "# Preparing Alzheimer's Dataset"
      ]
    },
    {
      "cell_type": "code",
      "source": [
        "# Creating directory to store raw & clean data\n",
        "\n",
        "!unzip '/content/gdrive/MyDrive/Colab Notebooks/Capstone[CSE 498]/Dataset/Alzheimer-MRI.zip' -d '/content/dataset/H-V-A/Alzheimer'\n",
        "\n",
        "!find \"/content/dataset/H-V-A/Alzheimer/Alzheimer-MRI/test/NonDemented\" -mindepth 0 -type f -print -exec mv {} '/content/dataset/H-V-A/Healthy' \\;\n",
        "!find \"/content/dataset/H-V-A/Alzheimer/Alzheimer-MRI/train/NonDemented/\" -mindepth 0 -type f -print -exec mv {} '/content/dataset/H-V-A/Healthy' \\;\n",
        "\n",
        "!rm -rf '/content/dataset/H-V-A/Alzheimer/Alzheimer-MRI/train/NonDemented'\n",
        "!rm -rf '/content/dataset/H-V-A/Alzheimer/Alzheimer-MRI/test/NonDemented'\n",
        "\n",
        "!find \"/content/dataset/H-V-A/Alzheimer/Alzheimer-MRI\" -mindepth 0 -type f -print -exec mv {} '/content/dataset/H-V-A/Alzheimer/' \\;\n",
        "!rm -rf '/content/dataset/H-V-A/Alzheimer/Alzheimer-MRI'\n"
      ],
      "metadata": {
        "id": "xj5W7hVOkViG"
      },
      "execution_count": null,
      "outputs": []
    },
    {
      "cell_type": "code",
      "source": [
        "# Copy Alzheimer's data to all the respectie folder\n",
        "\n",
        "!cp /content/dataset/H-V-A/Alzheimer/* /content/dataset/A-V-D/Alzheimer\n",
        "!cp /content/dataset/H-V-A/Alzheimer/* /content/dataset/A-V-P/Alzheimer"
      ],
      "metadata": {
        "id": "8Tj6PSoukbg6"
      },
      "execution_count": null,
      "outputs": []
    },
    {
      "cell_type": "code",
      "execution_count": null,
      "metadata": {
        "id": "HZPy1aMqyQy7"
      },
      "outputs": [],
      "source": [
        "# input_dir = '/content/dataset/H-V-A/Alzheimer/'\n",
        "# test_list = [ f for f in  os.listdir(input_dir)]\n",
        "# for img in test_list[:]:\n",
        "#   path = input_dir + img\n",
        "#   im = Image.open(path)\n",
        "#   width, height = im.size\n",
        "#   print(height, width)"
      ]
    },
    {
      "cell_type": "markdown",
      "source": [
        "# Preparing Dementia Dataset"
      ],
      "metadata": {
        "id": "y9EsSrOk-U3C"
      }
    },
    {
      "cell_type": "code",
      "source": [
        "!mkdir -p /content/dataset/H-V-D/Dementia\n",
        "!tar -xvzf '/content/gdrive/MyDrive/Colab Notebooks/Capstone[CSE 498]/Dataset/Dementia_oasis_cross-sectional_disc1.tar.gz' -C '/content/dataset/H-V-D/Dementia'\n",
        "!find \"/content/dataset/H-V-D/Dementia/disc1/\" -mindepth 0 -type f -print -exec mv {} '/content/dataset/H-V-D/Dementia' \\;\n",
        "!rm -rf /content/dataset/H-V-D/Dementia/disc1\n"
      ],
      "metadata": {
        "id": "nna1s57v-ZIn"
      },
      "execution_count": null,
      "outputs": []
    },
    {
      "cell_type": "code",
      "source": [
        "import os\n",
        "import glob\n",
        "\n",
        "files = glob.glob('/content/dataset/H-V-D/Dementia/*.gif')\n",
        "print(len(files))\n",
        "\n",
        "inputdir = '/content/dataset/H-V-D/Dementia'\n",
        "test_list = [ f for f in  os.listdir(inputdir)]\n",
        "test_list[:5]"
      ],
      "metadata": {
        "id": "11g9qZkO-cV0",
        "colab": {
          "base_uri": "https://localhost:8080/"
        },
        "outputId": "22e5ba8f-7a02-4f47-ef32-8189d17ae397"
      },
      "execution_count": null,
      "outputs": [
        {
          "output_type": "stream",
          "name": "stdout",
          "text": [
            "382\n"
          ]
        },
        {
          "output_type": "execute_result",
          "data": {
            "text/plain": [
              "['OAS1_0038_MR1_mpr-1_anon_sag_66.gif',\n",
              " 'OAS1_0021_MR1_mpr_n4_anon_111_t88_gfc_cor_110.gif',\n",
              " 'OAS1_0031_MR1_mpr-2_anon_to_OAS1_0031_MR1_mpr-1_anon_t4',\n",
              " 'OAS1_0030_MR1_mpr-3_anon_to_OAS1_0030_MR1_mpr-1_anon_t4',\n",
              " 'OAS1_0003_MR1_mpr-3_anon.img']"
            ]
          },
          "metadata": {},
          "execution_count": 12
        }
      ]
    },
    {
      "cell_type": "code",
      "source": [
        "# Deleting all files except .gif\n",
        "import re\n",
        "import os\n",
        "\n",
        "for f in test_list[:]:\n",
        "  # print(f)\n",
        "  if(re.search(\".gif\", f) == None):\n",
        "    try:\n",
        "      f = inputdir + '/' + f\n",
        "      # print(f)\n",
        "      os.remove(f)\n",
        "    except OSError as e:\n",
        "      pass\n",
        "      print(\"Error: %s : %s\" % (f, e.strerror))\n",
        "\n",
        "test_list = [ f for f in  os.listdir('/content/dataset/H-V-D/Dementia')]\n",
        "print(len(test_list))\n",
        "test_list\n",
        "\n",
        "\n",
        "\n",
        "# Renaming all dementia files\n",
        "i = 1\n",
        "for l in test_list[:]:\n",
        "  new_name = r'/content/dataset/H-V-D/Dementia/dementia-'+str(i)+'.gif'\n",
        "  oldname = r'/content/dataset/H-V-D/Dementia/' + l\n",
        "  # print(\"Old name: \", l)\n",
        "  # print(\"New name: \", new_name)\n",
        "  os.rename(oldname, new_name)\n",
        "  i = i + 1\n",
        "\n",
        "# new_list"
      ],
      "metadata": {
        "id": "e76_hO4g-hpo",
        "colab": {
          "base_uri": "https://localhost:8080/"
        },
        "outputId": "6784a1cf-cf4d-4f0d-8fc4-18165963ca39"
      },
      "execution_count": null,
      "outputs": [
        {
          "output_type": "stream",
          "name": "stdout",
          "text": [
            "382\n"
          ]
        }
      ]
    },
    {
      "cell_type": "markdown",
      "source": [
        "### Converting .gif to .png"
      ],
      "metadata": {
        "id": "JnlfcYcx-lf8"
      }
    },
    {
      "cell_type": "code",
      "source": [
        "test_list = [ f for f in  os.listdir('/content/dataset/H-V-D/Dementia')]\n",
        "\n",
        "from PIL import Image\n",
        "\n",
        "# j = 1\n",
        "for f in test_list[:]:\n",
        "  # j = j + 1\n",
        "  # print(\"Old name: \", f)\n",
        "  new_name = f.split(\".\")[0] + '.jpg'\n",
        "  # print(\"New name: \", new_name)\n",
        "  Image.open('/content/dataset/H-V-D/Dementia/' + f).convert('RGB').save('/content/dataset/H-V-D/Dementia/' + new_name)\n",
        "  os.remove('/content/dataset/H-V-D/Dementia/' + f)\n"
      ],
      "metadata": {
        "id": "Gm9RmALe-nUN"
      },
      "execution_count": null,
      "outputs": []
    },
    {
      "cell_type": "code",
      "source": [
        "# Cropping Dementia images\n",
        "\n",
        "inputdir = '/content/dataset/H-V-D/Dementia'\n",
        "test_list = [ f for f in  os.listdir(inputdir)]\n",
        "\n",
        "import matplotlib.pyplot as plt\n",
        "height = 208\n",
        "width = 176\n",
        "dim = (width, height)\n",
        "\n",
        "#Converting .dcm to .jpg\n",
        "test_list = [ f for f in  os.listdir(inputdir)]\n",
        "i = 1\n",
        "for f in test_list[:]:   # remove \"[:]\" to convert all images\n",
        "  path = inputdir + '/' + f\n",
        "  if(os.path.isdir(path) is False):\n",
        "    img = cv2.imread(path) # read image\n",
        "    # plt.imshow(img)\n",
        "    cropped_image = cv2.resize(img, dim, interpolation=cv2.INTER_LINEAR)\n",
        "    #saving cropped image to ('/content/dataset/H-V-D/Dementia/test' directory\n",
        "    path = inputdir + '/' + f\n",
        "    cv2.imwrite(path, cropped_image)\n",
        "    i = i+1"
      ],
      "metadata": {
        "id": "KNw96-Q9-pw9"
      },
      "execution_count": null,
      "outputs": []
    },
    {
      "cell_type": "code",
      "source": [
        "!cp /content/dataset/H-V-D/Dementia/* /content/dataset/D-V-P/Dementia\n",
        "!cp /content/dataset/H-V-D/Dementia/* /content/dataset/A-V-D/Dementia"
      ],
      "metadata": {
        "id": "9_YRMaA5oRvK"
      },
      "execution_count": null,
      "outputs": []
    },
    {
      "cell_type": "markdown",
      "source": [
        "# Preparing Healthy Dataset"
      ],
      "metadata": {
        "id": "dsoZyKzPl-9G"
      }
    },
    {
      "cell_type": "code",
      "source": [
        "# copying healthy dataset to respective folders\n",
        "!cp /content/dataset/H-V-A/Healthy/* /content/dataset/H-V-D/Healthy\n",
        "!cp /content/dataset/H-V-A/Healthy/* /content/dataset/H-V-P/Healthy"
      ],
      "metadata": {
        "id": "PXLTLAA0mK-3"
      },
      "execution_count": null,
      "outputs": []
    },
    {
      "cell_type": "markdown",
      "metadata": {
        "id": "-nOVe_bF6MZz"
      },
      "source": [
        "# Build Model"
      ]
    },
    {
      "cell_type": "code",
      "source": [
        "import numpy as np\n",
        "import pickle\n",
        "import cv2\n",
        "from os import listdir\n",
        "from sklearn.preprocessing import LabelBinarizer\n",
        "from tensorflow.keras.models import Sequential\n",
        "from tensorflow.keras.layers import BatchNormalization\n",
        "from keras.layers.convolutional import Conv2D\n",
        "from keras.layers.convolutional import MaxPooling2D\n",
        "from keras.layers.core import Activation, Flatten, Dropout, Dense\n",
        "from tensorflow.keras import backend as K\n",
        "from keras.preprocessing.image import ImageDataGenerator\n",
        "from tensorflow.keras.optimizers import Adam\n",
        "from keras.preprocessing import image\n",
        "from keras.preprocessing.image import img_to_array\n",
        "from sklearn.preprocessing import MultiLabelBinarizer\n",
        "from sklearn.model_selection import train_test_split\n",
        "import matplotlib.pyplot as plt"
      ],
      "metadata": {
        "id": "lKzOOp3EMnEe"
      },
      "execution_count": null,
      "outputs": []
    },
    {
      "cell_type": "code",
      "source": [
        "import numpy as np\n",
        "import pandas as pd\n",
        "import cv2\n",
        "from pathlib import Path\n",
        "import tensorflow as tf\n",
        "import matplotlib.pyplot as plt\n",
        "import datetime,os\n",
        "\n",
        "from tensorflow.keras.preprocessing.image import ImageDataGenerator\n",
        "from tensorflow.keras.models import Sequential\n",
        "from tensorflow.keras.applications import MobileNetV2\n",
        "from tensorflow.keras.regularizers import l2\n",
        "from tensorflow.keras.callbacks import EarlyStopping, ModelCheckpoint, ReduceLROnPlateau\n",
        "from tensorflow.keras.layers import Dense, Input, Conv2D, Flatten, MaxPool2D, Activation,BatchNormalization,MaxPooling2D,Dropout\n",
        "from tensorflow.keras.optimizers import Adam"
      ],
      "metadata": {
        "id": "d2uSqlHbMtOd"
      },
      "execution_count": null,
      "outputs": []
    },
    {
      "cell_type": "code",
      "source": [
        "#defining the path to our data using the pathlib library\n",
        "data_root = Path('/content/dataset')\n",
        "print('data_root:', data_root) "
      ],
      "metadata": {
        "colab": {
          "base_uri": "https://localhost:8080/"
        },
        "id": "jqgvPjjxMy4o",
        "outputId": "9cce5af1-ade5-48e0-a5f0-b7c34546e428"
      },
      "execution_count": null,
      "outputs": [
        {
          "output_type": "stream",
          "name": "stdout",
          "text": [
            "data_root: /content/dataset\n"
          ]
        }
      ]
    },
    {
      "cell_type": "code",
      "source": [
        "Dim = 256 #dimension of the image \n",
        "batch_size = 10 #batch size specified to be trained\n",
        "Num_class = 6 #number of classes of the dataset\n",
        "\n",
        "train_steps_per_epoch = 1438 // batch_size # // rounds up to lower number after division (floor division)\n",
        "val_steps_per_epoch = 353 // batch_size\n",
        "test_steps_per_epoch = 154 // batch_size"
      ],
      "metadata": {
        "id": "EsD69l7_NJCO"
      },
      "execution_count": null,
      "outputs": []
    },
    {
      "cell_type": "code",
      "source": [
        "EPOCHS = 25\n",
        "INIT_LR = .0001\n",
        "BS = 8\n",
        "default_image_size = tuple((208, 176))\n",
        "image_size = 0\n",
        "directory_root = '/content/dataset'\n",
        "width=208\n",
        "height=176\n",
        "depth=3"
      ],
      "metadata": {
        "id": "pHot4b8_NKkt"
      },
      "execution_count": null,
      "outputs": []
    },
    {
      "cell_type": "code",
      "source": [
        "def convert_image_to_array(image_dir):\n",
        "    try:\n",
        "        image = cv2.imread(image_dir)\n",
        "        if image is not None :\n",
        "            image = cv2.resize(image, default_image_size)   \n",
        "            return img_to_array(image)\n",
        "        else :\n",
        "            return np.array([])\n",
        "    except Exception as e:\n",
        "        print(f\"Error : {e}\")\n",
        "        return None"
      ],
      "metadata": {
        "id": "MqkyCkMxNcZd"
      },
      "execution_count": null,
      "outputs": []
    },
    {
      "cell_type": "code",
      "source": [
        "image_list, label_list = [], []\n",
        "try:\n",
        "    print(\"[INFO] Loading images ...\")\n",
        "    root_dir = listdir(directory_root)\n",
        "    for directory in root_dir :\n",
        "        # remove .DS_Store from list\n",
        "        if directory == \".DS_Store\" :\n",
        "            root_dir.remove(directory)\n",
        "\n",
        "    for plant_folder in root_dir :\n",
        "        plant_disease_folder_list = listdir(f\"{directory_root}/{plant_folder}\")\n",
        "        \n",
        "        for disease_folder in plant_disease_folder_list :\n",
        "            # remove .DS_Store from list\n",
        "            if disease_folder == \".DS_Store\" :\n",
        "                plant_disease_folder_list.remove(disease_folder)\n",
        "\n",
        "        for plant_disease_folder in plant_disease_folder_list:\n",
        "            print(f\"[INFO] Processing {plant_disease_folder} ...\")\n",
        "            plant_disease_image_list = listdir(f\"{directory_root}/{plant_folder}/{plant_disease_folder}/\")\n",
        "                \n",
        "            for single_plant_disease_image in plant_disease_image_list :\n",
        "                if single_plant_disease_image == \".DS_Store\" :\n",
        "                    plant_disease_image_list.remove(single_plant_disease_image)\n",
        "\n",
        "                    \n",
        "            for image in plant_disease_image_list[:500]:\n",
        "                image_directory = f\"{directory_root}/{plant_folder}/{plant_disease_folder}/{image}\"\n",
        "                if image_directory.endswith(\".jpg\") == True or image_directory.endswith(\".JPG\") == True or image_directory.endswith(\".png\")==True or image_directory.endswith(\".jpeg\") == True:\n",
        "                    image_list.append(convert_image_to_array(image_directory))\n",
        "                    label_list.append(plant_disease_folder)\n",
        "    print(\"[INFO] Image loading completed\")  \n",
        "except Exception as e:\n",
        "    print(f\"Error : {e}\")"
      ],
      "metadata": {
        "colab": {
          "base_uri": "https://localhost:8080/"
        },
        "id": "wmKc_9qsNeu1",
        "outputId": "e6d223ee-e15c-43d6-ffad-300a062d5f64"
      },
      "execution_count": null,
      "outputs": [
        {
          "output_type": "stream",
          "name": "stdout",
          "text": [
            "[INFO] Loading images ...\n",
            "[INFO] Processing Healthy ...\n",
            "[INFO] Processing Dementia ...\n",
            "[INFO] Processing Parkinson ...\n",
            "[INFO] Processing Dementia ...\n",
            "[INFO] Processing Healthy ...\n",
            "[INFO] Processing Alzheimer ...\n",
            "[INFO] Processing Healthy ...\n",
            "[INFO] Processing Parkinson ...\n",
            "[INFO] Processing Alzheimer ...\n",
            "[INFO] Processing Dementia ...\n",
            "[INFO] Processing Parkinson ...\n",
            "[INFO] Processing Alzheimer ...\n",
            "[INFO] Image loading completed\n"
          ]
        }
      ]
    },
    {
      "cell_type": "code",
      "source": [
        "label_binarizer = LabelBinarizer()\n",
        "image_labels = label_binarizer.fit_transform(label_list)\n",
        "pickle.dump(label_binarizer,open('label_transform.pkl', 'wb'))\n",
        "n_classes = len(label_binarizer.classes_)"
      ],
      "metadata": {
        "id": "5Y4JGCRLNnwW"
      },
      "execution_count": null,
      "outputs": []
    },
    {
      "cell_type": "code",
      "source": [
        "set(label_binarizer.classes_\n",
        "    )"
      ],
      "metadata": {
        "colab": {
          "base_uri": "https://localhost:8080/"
        },
        "id": "ZCOa4V7vNqfe",
        "outputId": "d7ecbfbf-128a-42da-8d60-b7a43f758c83"
      },
      "execution_count": null,
      "outputs": [
        {
          "output_type": "execute_result",
          "data": {
            "text/plain": [
              "{'Alzheimer', 'Dementia', 'Healthy', 'Parkinson'}"
            ]
          },
          "metadata": {},
          "execution_count": 26
        }
      ]
    },
    {
      "cell_type": "code",
      "source": [
        "np_image_list = np.array(image_list, dtype=np.float16) / 255.0"
      ],
      "metadata": {
        "id": "ANM9L_xNNvkg"
      },
      "execution_count": null,
      "outputs": []
    },
    {
      "cell_type": "code",
      "source": [
        "print(\"[INFO] Spliting data to train, test\")\n",
        "x_train, x_test, y_train, y_test = train_test_split(np_image_list, image_labels, test_size=0.2, random_state = 42) "
      ],
      "metadata": {
        "colab": {
          "base_uri": "https://localhost:8080/"
        },
        "id": "JLqBkVzwN0zh",
        "outputId": "ba6358e0-bd54-4ced-df07-c540b4e27e6e"
      },
      "execution_count": null,
      "outputs": [
        {
          "output_type": "stream",
          "name": "stdout",
          "text": [
            "[INFO] Spliting data to train, test\n"
          ]
        }
      ]
    },
    {
      "cell_type": "code",
      "source": [
        "print(image_labels)"
      ],
      "metadata": {
        "colab": {
          "base_uri": "https://localhost:8080/"
        },
        "id": "0p7PlNBQN3jr",
        "outputId": "177b77b7-e2ac-43a0-abdb-531b87f8e91c"
      },
      "execution_count": null,
      "outputs": [
        {
          "output_type": "stream",
          "name": "stdout",
          "text": [
            "[[0 0 1 0]\n",
            " [0 0 1 0]\n",
            " [0 0 1 0]\n",
            " ...\n",
            " [1 0 0 0]\n",
            " [1 0 0 0]\n",
            " [1 0 0 0]]\n"
          ]
        }
      ]
    },
    {
      "cell_type": "code",
      "source": [
        "x_train.shape\n"
      ],
      "metadata": {
        "colab": {
          "base_uri": "https://localhost:8080/"
        },
        "id": "jmKVLR1BN5u-",
        "outputId": "4a1e28fb-4e34-484b-a10e-23ee9c6aa6c6"
      },
      "execution_count": null,
      "outputs": [
        {
          "output_type": "execute_result",
          "data": {
            "text/plain": [
              "(4516, 176, 208, 3)"
            ]
          },
          "metadata": {},
          "execution_count": 30
        }
      ]
    },
    {
      "cell_type": "code",
      "source": [
        "x_test.shape"
      ],
      "metadata": {
        "colab": {
          "base_uri": "https://localhost:8080/"
        },
        "id": "UQMxlWn_N9x6",
        "outputId": "80ce960e-c848-4c39-c5e6-15454ce97874"
      },
      "execution_count": null,
      "outputs": [
        {
          "output_type": "execute_result",
          "data": {
            "text/plain": [
              "(1130, 176, 208, 3)"
            ]
          },
          "metadata": {},
          "execution_count": 31
        }
      ]
    },
    {
      "cell_type": "code",
      "source": [
        "y_train.shape"
      ],
      "metadata": {
        "colab": {
          "base_uri": "https://localhost:8080/"
        },
        "id": "k3H-uPgmOA3g",
        "outputId": "4d2d4b3b-6875-485d-c6b4-7fae01c84ab1"
      },
      "execution_count": null,
      "outputs": [
        {
          "output_type": "execute_result",
          "data": {
            "text/plain": [
              "(4516, 4)"
            ]
          },
          "metadata": {},
          "execution_count": 32
        }
      ]
    },
    {
      "cell_type": "code",
      "source": [
        "y_test.shape"
      ],
      "metadata": {
        "colab": {
          "base_uri": "https://localhost:8080/"
        },
        "id": "WvsbD_WyOFJc",
        "outputId": "f47d7e13-90cc-4473-dfc1-d6b44ce3c224"
      },
      "execution_count": null,
      "outputs": [
        {
          "output_type": "execute_result",
          "data": {
            "text/plain": [
              "(1130, 4)"
            ]
          },
          "metadata": {},
          "execution_count": 33
        }
      ]
    },
    {
      "cell_type": "code",
      "source": [
        "\n",
        "numOfSample=[]\n",
        "\n",
        "for x in range(0,4):\n",
        "\tnumOfSample.append(len(np.where(y_train==x)[0]))\n",
        "\n",
        "plt.figure(figsize=(10,5))\n",
        "plt.bar(range(0, 4),numOfSample)\n",
        "plt.title(\"Bar Plot of Classes & Images\")\n",
        "plt.xlabel(\"No Of Classes\")\n",
        "plt.ylabel(\"No of Images\")\n",
        "plt.show()"
      ],
      "metadata": {
        "colab": {
          "base_uri": "https://localhost:8080/",
          "height": 350
        },
        "id": "IFiiqBv0OP9v",
        "outputId": "3399c74a-d4a8-454f-cbb3-bab72e6a06d3"
      },
      "execution_count": null,
      "outputs": [
        {
          "output_type": "display_data",
          "data": {
            "text/plain": [
              "<Figure size 720x360 with 1 Axes>"
            ],
            "image/png": "[encoded data removed]"
          },
          "metadata": {
            "needs_background": "light"
          }
        }
      ]
    },
    {
      "cell_type": "code",
      "source": [
        "aug = ImageDataGenerator(\n",
        "    rotation_range=25, width_shift_range=0.1,\n",
        "    height_shift_range=0.1, shear_range=0.2, \n",
        "    zoom_range=0.2,horizontal_flip=True, \n",
        "    fill_mode=\"nearest\")"
      ],
      "metadata": {
        "id": "wf5gSuVrOes4"
      },
      "execution_count": null,
      "outputs": []
    },
    {
      "cell_type": "code",
      "source": [
        "\n",
        "import keras\n",
        "import numpy as np\n",
        "import cv2\n",
        "import os\n",
        "import random\n",
        "import shutil\n",
        "import pandas as pd\n",
        "import csv\n",
        "import zipfile\n",
        "from keras import optimizers\n",
        "from keras.models import Sequential,Model\n",
        "from keras.layers import Dropout, Flatten, Dense,Input\n",
        "from keras.applications.resnet_v2 import ResNet50V2\n",
        "from keras.applications.xception import Xception\n",
        "from keras.applications.vgg16 import VGG16\n",
        "from keras.callbacks import ModelCheckpoint\n",
        "from keras.applications.imagenet_utils import preprocess_input\n",
        "from keras import backend as K\n",
        "from keras.preprocessing.image import ImageDataGenerator\n",
        "from keras.initializers import RandomNormal\n",
        "import keras.backend as k\n",
        "from sklearn.utils import shuffle\n",
        "import io\n",
        "from PIL import Image as pil_image\n",
        "#from tensorflow.keras_retinanet import layers\n",
        "#import keras.backend as k\n",
        "#import keras_retinanet"
      ],
      "metadata": {
        "id": "IWXEU0O6OiAa"
      },
      "execution_count": null,
      "outputs": []
    },
    {
      "cell_type": "code",
      "source": [
        "from keras.applications import resnet\n",
        "model = resnet.ResNet50"
      ],
      "metadata": {
        "id": "21NCZqyOOkBA"
      },
      "execution_count": null,
      "outputs": []
    },
    {
      "cell_type": "code",
      "source": [
        "import tensorflow\n",
        "resnet = model(include_top=False, weights='imagenet', input_shape=(176, 208, 3))\n",
        "\n",
        "inp = Input((176,208,3))\n",
        "x = resnet(inp)\n",
        "x = tensorflow.keras.layers.GlobalAveragePooling2D()(x)\n",
        "out = Dense(4, activation='softmax')(x)\n",
        "\n",
        "model = Model(inp,out)"
      ],
      "metadata": {
        "id": "R_PNVZy5OmG4",
        "colab": {
          "base_uri": "https://localhost:8080/"
        },
        "outputId": "86f1684d-3857-4699-d2ae-0330e9529212"
      },
      "execution_count": null,
      "outputs": [
        {
          "output_type": "stream",
          "name": "stdout",
          "text": [
            "Downloading data from https://storage.googleapis.com/tensorflow/keras-applications/resnet/resnet50_weights_tf_dim_ordering_tf_kernels_notop.h5\n",
            "94773248/94765736 [==============================] - 1s 0us/step\n",
            "94781440/94765736 [==============================] - 1s 0us/step\n"
          ]
        }
      ]
    },
    {
      "cell_type": "code",
      "source": [
        "import tensorflow as tf  \n",
        "#stop training is model accuracy reached 99% \n",
        "class myCallback(tf.keras.callbacks.Callback): \n",
        "  def on_epoch_end(self, epoch, logs={}): \n",
        "    if(logs.get('val_accuracy')>0.99): \n",
        "      self.model.stop_training = True"
      ],
      "metadata": {
        "id": "zuIgAPhVyKQU"
      },
      "execution_count": null,
      "outputs": []
    },
    {
      "cell_type": "code",
      "source": [
        "opt = Adam(learning_rate=INIT_LR, decay=INIT_LR / EPOCHS)\n",
        "# distribution\n",
        "model.compile(loss=\"categorical_crossentropy\", optimizer=opt,metrics=[\"accuracy\"])\n",
        "es = myCallback() \n",
        "# train the network\n",
        "print(\"[INFO] training network...\")"
      ],
      "metadata": {
        "colab": {
          "base_uri": "https://localhost:8080/"
        },
        "id": "4nmDxUN6O0Tt",
        "outputId": "13cbdf45-811e-4406-9be6-40405dbb57d6"
      },
      "execution_count": null,
      "outputs": [
        {
          "output_type": "stream",
          "name": "stdout",
          "text": [
            "[INFO] training network...\n"
          ]
        }
      ]
    },
    {
      "cell_type": "code",
      "source": [
        "model.summary()"
      ],
      "metadata": {
        "colab": {
          "base_uri": "https://localhost:8080/"
        },
        "id": "VfOEeBMuO2m1",
        "outputId": "789affc6-be4b-4a81-d4fc-ddad33dca47f"
      },
      "execution_count": null,
      "outputs": [
        {
          "output_type": "stream",
          "name": "stdout",
          "text": [
            "Model: \"model\"\n",
            "_________________________________________________________________\n",
            " Layer (type)                Output Shape              Param #   \n",
            "=================================================================\n",
            " input_2 (InputLayer)        [(None, 176, 208, 3)]     0         \n",
            "                                                                 \n",
            " resnet50 (Functional)       (None, 6, 7, 2048)        23587712  \n",
            "                                                                 \n",
            " global_average_pooling2d (G  (None, 2048)             0         \n",
            " lobalAveragePooling2D)                                          \n",
            "                                                                 \n",
            " dense (Dense)               (None, 4)                 8196      \n",
            "                                                                 \n",
            "=================================================================\n",
            "Total params: 23,595,908\n",
            "Trainable params: 23,542,788\n",
            "Non-trainable params: 53,120\n",
            "_________________________________________________________________\n"
          ]
        }
      ]
    },
    {
      "cell_type": "code",
      "source": [
        "from keras.utils.vis_utils import plot_model\n",
        "plot_model(model, to_file='model_plot2.jpg', show_shapes=True, show_layer_names=True)"
      ],
      "metadata": {
        "colab": {
          "base_uri": "https://localhost:8080/",
          "height": 422
        },
        "id": "sED1ZJeXO53p",
        "outputId": "d8112f0d-1dd5-4bb5-f322-7cab00cf3b71"
      },
      "execution_count": null,
      "outputs": [
        {
          "output_type": "execute_result",
          "data": {
            "image/jpeg": "[encoded data removed]",
            "text/plain": [
              "<IPython.core.display.Image object>"
            ]
          },
          "metadata": {},
          "execution_count": 42
        }
      ]
    },
    {
      "cell_type": "code",
      "source": [
        "import tensorflow as tf \n",
        "\n",
        "# Early Stopping\n",
        "# es = EarlyStopping(monitor='val_accuracy',min_delta=0.01,patience=3,verbose=1)\n",
        "\n",
        "checkpoint_filepath='/content/dataset'\n",
        "\n",
        "# Model Check point\n",
        "# mc = ModelCheckpoint(filepath=checkpoint_filepath, \n",
        "#                      monitor='val_accuracy',\n",
        "#                      min_delta=0.01,\n",
        "#                      patience=3,\n",
        "#                      verbose=1,\n",
        "#                      save_best_only=True)\n",
        "\n",
        "#model_checkpoint_callback\n",
        "mc = tf.keras.callbacks.ModelCheckpoint(\n",
        "    filepath=checkpoint_filepath,\n",
        "    save_weights_only=True,\n",
        "    monitor='val_accuracy',\n",
        "    mode='max',\n",
        "    save_best_only=True)\n",
        "\n",
        "cb = [es,mc]"
      ],
      "metadata": {
        "id": "6Q9KrLo8O_n1"
      },
      "execution_count": null,
      "outputs": []
    },
    {
      "cell_type": "code",
      "source": [
        "history = model.fit(\n",
        "    aug.flow(x_train, y_train, batch_size=BS),\n",
        "    validation_data=(x_test, y_test),\n",
        "    steps_per_epoch=len(x_train) // BS,\n",
        "    epochs=50, verbose=1,\n",
        "    callbacks=cb\n",
        "    )\n",
        "model.load_weights(checkpoint_filepath)"
      ],
      "metadata": {
        "colab": {
          "base_uri": "https://localhost:8080/"
        },
        "id": "mc5U6onaPF2G",
        "outputId": "32a53a98-e64a-40cb-c3f9-6471d2b754a3"
      },
      "execution_count": null,
      "outputs": [
        {
          "output_type": "stream",
          "name": "stdout",
          "text": [
            "Epoch 1/50\n",
            "564/564 [==============================] - 84s 109ms/step - loss: 0.3841 - accuracy: 0.8148 - val_loss: 4.1073 - val_accuracy: 0.2646\n",
            "Epoch 2/50\n",
            "564/564 [==============================] - 60s 106ms/step - loss: 0.3018 - accuracy: 0.8531 - val_loss: 0.2678 - val_accuracy: 0.8770\n",
            "Epoch 3/50\n",
            "564/564 [==============================] - 65s 115ms/step - loss: 0.2637 - accuracy: 0.8689 - val_loss: 0.3048 - val_accuracy: 0.8115\n",
            "Epoch 4/50\n",
            "564/564 [==============================] - 58s 103ms/step - loss: 0.2379 - accuracy: 0.8886 - val_loss: 0.2433 - val_accuracy: 0.8912\n",
            "Epoch 5/50\n",
            "564/564 [==============================] - 58s 103ms/step - loss: 0.2220 - accuracy: 0.9059 - val_loss: 0.2077 - val_accuracy: 0.9168\n",
            "Epoch 6/50\n",
            "564/564 [==============================] - 56s 100ms/step - loss: 0.2183 - accuracy: 0.9088 - val_loss: 15.8209 - val_accuracy: 0.5168\n",
            "Epoch 7/50\n",
            "564/564 [==============================] - 56s 100ms/step - loss: 0.1819 - accuracy: 0.9241 - val_loss: 0.2106 - val_accuracy: 0.9018\n",
            "Epoch 8/50\n",
            "564/564 [==============================] - 60s 107ms/step - loss: 0.1572 - accuracy: 0.9328 - val_loss: 0.1661 - val_accuracy: 0.9310\n",
            "Epoch 9/50\n",
            "564/564 [==============================] - 56s 100ms/step - loss: 0.1495 - accuracy: 0.9370 - val_loss: 0.3349 - val_accuracy: 0.8664\n",
            "Epoch 10/50\n",
            "564/564 [==============================] - 56s 100ms/step - loss: 0.1431 - accuracy: 0.9383 - val_loss: 0.1599 - val_accuracy: 0.9310\n",
            "Epoch 11/50\n",
            "564/564 [==============================] - 57s 102ms/step - loss: 0.1421 - accuracy: 0.9425 - val_loss: 0.1146 - val_accuracy: 0.9504\n",
            "Epoch 12/50\n",
            "564/564 [==============================] - 57s 100ms/step - loss: 0.1123 - accuracy: 0.9543 - val_loss: 0.1374 - val_accuracy: 0.9416\n",
            "Epoch 13/50\n",
            "564/564 [==============================] - 56s 99ms/step - loss: 0.1042 - accuracy: 0.9598 - val_loss: 0.1616 - val_accuracy: 0.9327\n",
            "Epoch 14/50\n",
            "564/564 [==============================] - 58s 102ms/step - loss: 0.0962 - accuracy: 0.9643 - val_loss: 0.0743 - val_accuracy: 0.9664\n",
            "Epoch 15/50\n",
            "564/564 [==============================] - 58s 102ms/step - loss: 0.0832 - accuracy: 0.9685 - val_loss: 0.1055 - val_accuracy: 0.9708\n",
            "Epoch 16/50\n",
            "564/564 [==============================] - 56s 100ms/step - loss: 0.0904 - accuracy: 0.9627 - val_loss: 0.4524 - val_accuracy: 0.8637\n",
            "Epoch 17/50\n",
            "564/564 [==============================] - 59s 104ms/step - loss: 0.0853 - accuracy: 0.9656 - val_loss: 0.1209 - val_accuracy: 0.9504\n",
            "Epoch 18/50\n",
            "564/564 [==============================] - 58s 102ms/step - loss: 0.1080 - accuracy: 0.9661 - val_loss: 0.0747 - val_accuracy: 0.9735\n",
            "Epoch 19/50\n",
            "564/564 [==============================] - 57s 100ms/step - loss: 0.0734 - accuracy: 0.9712 - val_loss: 0.1338 - val_accuracy: 0.9416\n",
            "Epoch 20/50\n",
            "564/564 [==============================] - 57s 100ms/step - loss: 0.0645 - accuracy: 0.9758 - val_loss: 0.0877 - val_accuracy: 0.9664\n",
            "Epoch 21/50\n",
            "564/564 [==============================] - 59s 104ms/step - loss: 0.0680 - accuracy: 0.9725 - val_loss: 0.1154 - val_accuracy: 0.9575\n",
            "Epoch 22/50\n",
            "564/564 [==============================] - 57s 101ms/step - loss: 0.0611 - accuracy: 0.9754 - val_loss: 0.1308 - val_accuracy: 0.9478\n",
            "Epoch 23/50\n",
            "564/564 [==============================] - 59s 105ms/step - loss: 0.0540 - accuracy: 0.9769 - val_loss: 0.0711 - val_accuracy: 0.9690\n",
            "Epoch 24/50\n",
            "564/564 [==============================] - 56s 100ms/step - loss: 0.0595 - accuracy: 0.9809 - val_loss: 0.1222 - val_accuracy: 0.9531\n",
            "Epoch 25/50\n",
            "564/564 [==============================] - 56s 100ms/step - loss: 0.0475 - accuracy: 0.9816 - val_loss: 0.0700 - val_accuracy: 0.9726\n",
            "Epoch 26/50\n",
            "564/564 [==============================] - 58s 102ms/step - loss: 0.0500 - accuracy: 0.9816 - val_loss: 0.0331 - val_accuracy: 0.9903\n"
          ]
        },
        {
          "output_type": "execute_result",
          "data": {
            "text/plain": [
              "<tensorflow.python.training.tracking.util.CheckpointLoadStatus at 0x7f1d040478d0>"
            ]
          },
          "metadata": {},
          "execution_count": 44
        }
      ]
    },
    {
      "cell_type": "code",
      "source": [
        "acc = history.history['accuracy']\n",
        "val_acc = history.history['val_accuracy']\n",
        "loss = history.history['loss']\n",
        "val_loss = history.history['val_loss']\n",
        "epochs = range(1, len(acc) + 1)\n",
        "#Train and validation accuracy\n",
        "plt.plot(epochs, acc, 'b', label='Training accurarcy')\n",
        "plt.plot(epochs, val_acc, 'r', label='Validation accurarcy')\n",
        "plt.title('Training and Validation accurarcy')\n",
        "plt.legend()\n",
        "\n",
        "plt.figure()\n",
        "#Train and validation loss\n",
        "plt.plot(epochs, loss, 'b', label='Training loss')\n",
        "plt.plot(epochs, val_loss, 'r', label='Validation loss')\n",
        "plt.title('Training and Validation loss')\n",
        "plt.legend()\n",
        "plt.show()"
      ],
      "metadata": {
        "colab": {
          "base_uri": "https://localhost:8080/",
          "height": 545
        },
        "id": "ehni7c_1WKtR",
        "outputId": "22f61e85-7ce4-442c-c769-7b0c56a046b8"
      },
      "execution_count": null,
      "outputs": [
        {
          "output_type": "display_data",
          "data": {
            "text/plain": [
              "<Figure size 432x288 with 1 Axes>"
            ],
            "image/png": "[encoded data removed]"
          },
          "metadata": {
            "needs_background": "light"
          }
        },
        {
          "output_type": "display_data",
          "data": {
            "text/plain": [
              "<Figure size 432x288 with 1 Axes>"
            ],
            "image/png": "[encoded data removed]"
          },
          "metadata": {
            "needs_background": "light"
          }
        }
      ]
    },
    {
      "cell_type": "code",
      "source": [
        "print(\"[INFO] Calculating model accuracy\")\n",
        "scores = model.evaluate(x_test, y_test)\n",
        "print(f\"Test Accuracy: {scores[1]*100}\")"
      ],
      "metadata": {
        "colab": {
          "base_uri": "https://localhost:8080/"
        },
        "id": "LmDGCaoYWQee",
        "outputId": "2f7db59c-a100-4d83-9864-509ba431b320"
      },
      "execution_count": null,
      "outputs": [
        {
          "output_type": "stream",
          "name": "stdout",
          "text": [
            "[INFO] Calculating model accuracy\n",
            "36/36 [==============================] - 3s 89ms/step - loss: 0.0331 - accuracy: 0.9903\n",
            "Test Accuracy: 99.02654886245728\n"
          ]
        }
      ]
    }
  ],
  "metadata": {
    "accelerator": "GPU",
    "colab": {
      "collapsed_sections": [],
      "provenance": [],
      "include_colab_link": true
    },
    "gpuClass": "standard",
    "kernelspec": {
      "display_name": "Python 3",
      "name": "python3"
    },
    "language_info": {
      "name": "python"
    }
  },
  "nbformat": 4,
  "nbformat_minor": 0
}